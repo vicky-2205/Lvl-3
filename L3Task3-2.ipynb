{
  "cells": [
    {
      "cell_type": "code",
      "execution_count": 1,
      "metadata": {
        "id": "eS_bxidCrc3k"
      },
      "outputs": [],
      "source": [
        "import pandas as pd\n",
        "import numpy as np\n"
      ]
    },
    {
      "cell_type": "code",
      "execution_count": 2,
      "metadata": {
        "id": "1Ar6pc91rzDM"
      },
      "outputs": [],
      "source": [
        "df = pd.read_csv('Dataset.csv')"
      ]
    },
    {
      "cell_type": "code",
      "execution_count": 3,
      "metadata": {
        "id": "MZ80XDPjr9OS"
      },
      "outputs": [],
      "source": [
        "df_new = df[['Price range', 'Has Online delivery', 'Has Table booking']]"
      ]
    },
    {
      "cell_type": "code",
      "execution_count": 4,
      "metadata": {
        "id": "v_F2W3JhsClQ"
      },
      "outputs": [],
      "source": [
        "def is_higher_priced_restaurant_more_likely_to_offer_online_delivery(df):\n",
        "    expensive_restaurants_with_online_delivery = df[\n",
        "        (df['Price range'] == 'Expensive') & (df['Has Online delivery'] == 'Yes')\n",
        "    ].shape[0]\n",
        "    moderate_restaurants_with_online_delivery = df[\n",
        "        (df['Price range'] == 'Moderate') & (df['Has Online delivery'] == 'Yes')\n",
        "    ].shape[0]\n",
        "    inexpensive_restaurants_with_online_delivery = df[\n",
        "        (df['Price range'] == 'Inexpensive') & (df['Has Online delivery'] == 'Yes')\n",
        "    ].shape[0]\n",
        "\n",
        "    if expensive_restaurants_with_online_delivery > moderate_restaurants_with_online_delivery and expensive_restaurants_with_online_delivery > inexpensive_restaurants_with_online_delivery:\n",
        "        return True\n",
        "    else:\n",
        "        return False"
      ]
    },
    {
      "cell_type": "code",
      "execution_count": 5,
      "metadata": {
        "id": "PDt80IM1sMvE"
      },
      "outputs": [],
      "source": [
        "def is_higher_priced_restaurant_more_likely_to_offer_table_booking(df):\n",
        "    expensive_restaurants_with_table_booking = df[\n",
        "        (df['Price range'] == 'Expensive') & (df['Has Table booking'] == 'Yes')\n",
        "    ].shape[0]\n",
        "    moderate_restaurants_with_table_booking = df[\n",
        "        (df['Price range'] == 'Moderate') & (df['Has Table booking'] == 'Yes')\n",
        "    ].shape[0]\n",
        "    inexpensive_restaurants_with_table_booking = df[\n",
        "        (df['Price range'] == 'Inexpensive') & (df['Has Table booking'] == 'Yes')\n",
        "    ].shape[0]\n",
        "\n",
        "    if expensive_restaurants_with_table_booking > moderate_restaurants_with_table_booking and expensive_restaurants_with_table_booking > inexpensive_restaurants_with_table_booking:\n",
        "        return True\n",
        "    else:\n",
        "        return False\n"
      ]
    },
    {
      "cell_type": "code",
      "execution_count": 6,
      "metadata": {
        "colab": {
          "base_uri": "https://localhost:8080/"
        },
        "id": "JEhbZeZssTSg",
        "outputId": "338ee3f7-6d6a-46af-fdae-50b49e826337"
      },
      "outputs": [
        {
          "name": "stdout",
          "output_type": "stream",
          "text": [
            "Are higher-priced restaurants more likely to offer online delivery?\n",
            "False\n",
            "Are higher-priced restaurants more likely to offer table booking?\n",
            "False\n"
          ]
        }
      ],
      "source": [
        "print('Are Higher-priced restaurants more likely to offer Online delivery?')\n",
        "print(is_higher_priced_restaurant_more_likely_to_offer_online_delivery(df_new))\n",
        "\n",
        "print('Are Higher-priced restaurants more likely to offer Table booking?')\n",
        "print(is_higher_priced_restaurant_more_likely_to_offer_table_booking(df_new))\n"
      ]
    }
  ],
  "metadata": {
    "colab": {
      "provenance": []
    },
    "kernelspec": {
      "display_name": "Python 3",
      "name": "python3"
    },
    "language_info": {
      "codemirror_mode": {
        "name": "ipython",
        "version": 3
      },
      "file_extension": ".py",
      "mimetype": "text/x-python",
      "name": "python",
      "nbconvert_exporter": "python",
      "pygments_lexer": "ipython3",
      "version": "3.8.8"
    }
  },
  "nbformat": 4,
  "nbformat_minor": 0
}
